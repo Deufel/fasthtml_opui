{
 "cells": [
  {
   "cell_type": "code",
   "execution_count": null,
   "metadata": {},
   "outputs": [],
   "source": [
    "#| hide\n",
    "from fasthtml_opui.core import *"
   ]
  },
  {
   "cell_type": "markdown",
   "metadata": {},
   "source": [
    "# fasthtml_opui\n",
    "\n",
    "> UNOFFICIAL Fast HTML Implementation of the OpenProps UI CSS Library"
   ]
  },
  {
   "cell_type": "markdown",
   "metadata": {},
   "source": [
    "This Libary is designed as an educational project to make using the Open Props UI Library easy to set up with a fast HTML Web App. \n",
    "\n",
    "The first part of this app will build \"vendor\" the required css structure for setting up the appplication to use; \n",
    " - [Open Props CSS Custom Variables](https://open-props.style/)\n",
    " - [Open Props UI](https://open-props-ui.netlify.app/)\n"
   ]
  },
  {
   "cell_type": "markdown",
   "metadata": {},
   "source": [
    "## Developer Guide"
   ]
  },
  {
   "cell_type": "markdown",
   "metadata": {},
   "source": [
    "If you are new to using `nbdev` here are some useful pointers to get you started."
   ]
  },
  {
   "cell_type": "markdown",
   "metadata": {},
   "source": [
    "### Install fasthtml_opui in Development mode"
   ]
  },
  {
   "cell_type": "markdown",
   "metadata": {},
   "source": [
    "```sh\n",
    "# make sure fasthtml_opui package is installed in development mode\n",
    "$ pip install -e .\n",
    "\n",
    "# make changes under nbs/ directory\n",
    "# ...\n",
    "\n",
    "# compile to have changes apply to fasthtml_opui\n",
    "$ nbdev_prepare\n",
    "```"
   ]
  },
  {
   "cell_type": "markdown",
   "metadata": {},
   "source": [
    "## Usage"
   ]
  },
  {
   "cell_type": "markdown",
   "metadata": {},
   "source": [
    "### Installation"
   ]
  },
  {
   "cell_type": "markdown",
   "metadata": {},
   "source": [
    "Install latest from from [pypi][pypi] \n",
    "\n",
    "\n",
    "```sh\n",
    "$ pip install fasthtml_opui\n",
    "```\n",
    "\n",
    "\n",
    "[repo]: https://github.com/Deufel/fasthtml_opui\n",
    "[docs]: https://Deufel.github.io/fasthtml_opui/\n",
    "[pypi]: https://pypi.org/project/fasthtml_opui/\n"
   ]
  },
  {
   "cell_type": "markdown",
   "metadata": {},
   "source": [
    "### Documentation"
   ]
  },
  {
   "cell_type": "markdown",
   "metadata": {},
   "source": [
    "Documentation can be found hosted on this GitHub [repository][repo]'s [pages][docs]. Additionally you can find package manager specific guidelines on [conda][conda] and [pypi][pypi] respectively.\n",
    "\n",
    "[repo]: https://github.com/Deufel/fasthtml_opui\n",
    "[docs]: https://Deufel.github.io/fasthtml_opui/\n",
    "[pypi]: https://pypi.org/project/fasthtml_opui/\n",
    "[conda]: https://anaconda.org/Deufel/fasthtml_opui"
   ]
  },
  {
   "cell_type": "markdown",
   "metadata": {},
   "source": [
    "## How to use"
   ]
  },
  {
   "cell_type": "markdown",
   "metadata": {},
   "source": [
    "1. Set Up Local CSS Folder Structure (optional)\n",
    "    ```python\n",
    "    syncer = OpenPropsSync()\n",
    "    syncer.sync_all()\n",
    "    ```\n",
    "2. Start App with Linked CSS style sheet\n",
    "   ```python\n",
    "   app, rt = fast_app(hdrs=OpenProps('dark', 'cyan'), pico=False)\n",
    "   ```\n",
    "   \n",
    "    "
   ]
  }
 ],
 "metadata": {
  "kernelspec": {
   "display_name": "python3",
   "language": "python",
   "name": "python3"
  }
 },
 "nbformat": 4,
 "nbformat_minor": 4
}
