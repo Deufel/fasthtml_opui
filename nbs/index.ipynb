{
 "cells": [
  {
   "cell_type": "code",
   "execution_count": null,
   "metadata": {},
   "outputs": [],
   "source": [
    "#| hide\n",
    "from fasthtml_opui.core import *"
   ]
  },
  {
   "cell_type": "markdown",
   "metadata": {},
   "source": [
    "# fasthtml_opui\n",
    "\n",
    "> UNOFFICIAL Fast HTML Implementation of the OpenProps UI CSS Library"
   ]
  },
  {
   "cell_type": "markdown",
   "metadata": {},
   "source": [
    "This Libary is designed as an educational project to make using the Open Props UI Library easy to set up with a fast HTML Web App. \n",
    "\n",
    "The first part of this app will build \"vendor\" the required css structure for setting up the appplication to use; \n",
    " - [Open Props CSS Custom Variables](https://open-props.style/)\n",
    " - [Open Props UI](https://open-props-ui.netlify.app/)\n",
    "\n",
    "Future : FT implementation of\n",
    " - Simple Theme Changer Commponent\n",
    " - Simple Color Changer Component\n",
    " - Tabs\n",
    " - Button Group\n",
    " - Icons\n",
    " - Scroll\n",
    " - Text Size Changer\n",
    " - Full Screen / Centered"
   ]
  },
  {
   "cell_type": "markdown",
   "metadata": {},
   "source": [
    "## Usage"
   ]
  },
  {
   "cell_type": "markdown",
   "metadata": {},
   "source": [
    "### Installation"
   ]
  },
  {
   "cell_type": "markdown",
   "metadata": {},
   "source": [
    "Install latest from from [pypi][pypi] \n",
    "\n",
    "\n",
    "```sh\n",
    "$ pip install fasthtml_opui\n",
    "```\n",
    "\n",
    "\n",
    "[repo]: https://github.com/Deufel/fasthtml_opui\n",
    "[docs]: https://Deufel.github.io/fasthtml_opui/\n",
    "[pypi]: https://pypi.org/project/fasthtml_opui/\n"
   ]
  },
  {
   "cell_type": "markdown",
   "metadata": {},
   "source": [
    "### Documentation"
   ]
  },
  {
   "cell_type": "markdown",
   "metadata": {},
   "source": [
    "Documentation can be found hosted on this GitHub [repository][repo]'s [pages][docs]. Additionally you can find package manager specific guidelines on [conda][conda] and [pypi][pypi] respectively.\n",
    "\n",
    "[repo]: https://github.com/Deufel/fasthtml_opui\n",
    "[docs]: https://Deufel.github.io/fasthtml_opui/\n",
    "[pypi]: https://pypi.org/project/fasthtml_opui/\n",
    "[conda]: https://anaconda.org/Deufel/fasthtml_opui"
   ]
  },
  {
   "cell_type": "markdown",
   "metadata": {},
   "source": [
    "## How to use"
   ]
  },
  {
   "cell_type": "markdown",
   "metadata": {},
   "source": [
    "```python\n",
    "    from fasthtml.common import *\n",
    "    # Import specific classes from fasthtml_opui\n",
    "    from fasthtml_opui.core import OpenProps, OpenPropsSync\n",
    "    \n",
    "    # Initialize OpenProps syncer and sync files\n",
    "    syncer = OpenPropsSync()\n",
    "    syncer.sync_all()\n",
    "    \n",
    "    # Create FastHTML app\n",
    "    app, rt = fast_app(hdrs=OpenProps('dark', 'cyan'), pico=False)\n",
    "    \n",
    "    @rt('/')\n",
    "    def get():\n",
    "        return Titled(\"Welcome\",\n",
    "            Article(\n",
    "                H2(\"Hello World\"),\n",
    "                P(\"This is a FastHTML app using OpenProps UI\"),\n",
    "                Button(\"Click me!\", cls=\"button\")\n",
    "            )\n",
    "        )\n",
    "    \n",
    "    serve()\n",
    "```\n",
    "   \n",
    "    "
   ]
  },
  {
   "cell_type": "markdown",
   "metadata": {},
   "source": [
    "```python\n",
    "from fasthtml.common import *\n",
    "\n",
    "\n",
    "# Import specific classes from fasthtml_opui\n",
    "from fasthtml_opui.core import OpenProps, OpenPropsSync\n",
    "\n",
    "# Initialize OpenProps syncer and sync files\n",
    "syncer = OpenPropsSync()\n",
    "syncer.sync_all()\n",
    "    \n",
    "# Optionally sync any additional custom CSS files\n",
    "syncer.sync_custom_css(\"https://example.com/special-styles.css\", \"special.css\")\n",
    "\n",
    "# Set up FastHTML with head-support extension and initial theme CSS\n",
    "app, rt = fast_app(\n",
    "    exts='head-support',  # Enable head tag support\n",
    "    pico=False,\n",
    "    hdrs=(\n",
    "        Style(\"\"\"\n",
    "            :root {\n",
    "                --color-scheme: system;\n",
    "                --palette-hue: 210;\n",
    "                --palette-hue-rotate-by: 0;\n",
    "                --palette-chroma: 0.89;\n",
    "            }\n",
    "        \"\"\"),\n",
    "        OpenProps('custom/utilities.css'),\n",
    "    )\n",
    ")\n",
    "```"
   ]
  },
  {
   "cell_type": "markdown",
   "metadata": {},
   "source": [
    "# Or just use the CDN (github at the moment for ease of use)\n",
    "\n",
    "```<link rel=\"stylesheet\" href=\"https://deufel.github.io/css/css/main.css\">```\n",
    "\n",
    "\n"
   ]
  }
 ],
 "metadata": {
  "kernelspec": {
   "display_name": "Python 3 (ipykernel)",
   "language": "python",
   "name": "python3"
  },
  "language_info": {
   "codemirror_mode": {
    "name": "ipython",
    "version": 3
   },
   "file_extension": ".py",
   "mimetype": "text/x-python",
   "name": "python",
   "nbconvert_exporter": "python",
   "pygments_lexer": "ipython3",
   "version": "3.12.5"
  }
 },
 "nbformat": 4,
 "nbformat_minor": 4
}
