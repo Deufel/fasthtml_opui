{
 "cells": [
  {
   "cell_type": "code",
   "execution_count": null,
   "metadata": {},
   "outputs": [],
   "source": [
    "# | default_exp core"
   ]
  },
  {
   "cell_type": "markdown",
   "metadata": {},
   "source": [
    "## core\n"
   ]
  },
  {
   "cell_type": "code",
   "execution_count": null,
   "metadata": {},
   "outputs": [],
   "source": [
    "# | hide\n",
    "from nbdev.showdoc import *\n",
    "from fasthtml.common import ft_hx, Style"
   ]
  },
  {
   "cell_type": "code",
   "execution_count": null,
   "metadata": {},
   "outputs": [],
   "source": [
    "#| export\n",
    "\n",
    "from pathlib import Path\n",
    "import httpx\n",
    "import shutil\n",
    "from typing import Literal\n",
    "\n",
    "from fasthtml.common import Link\n",
    "\n"
   ]
  },
  {
   "cell_type": "code",
   "execution_count": null,
   "metadata": {},
   "outputs": [],
   "source": [
    "#| export\n",
    "\n",
    "class OpenPropsSync:\n",
    "    \"\"\"Sync OpenProps and OpenProps UI files to local static directory\"\"\"\n",
    "    OPENPROPS_CDN = \"https://unpkg.com/open-props@2.0.0-beta.5\"\n",
    "    OPUI_GITHUB = \"https://raw.githubusercontent.com/felix-bohlin/ui/refs/heads/main/src\"\n",
    "\n",
    "    def __init__(self, static_dir=None):\n",
    "        self.static_dir = Path(static_dir or 'static')\n",
    "        self.css_dir = self.static_dir / 'css'\n",
    "        self.op_dir = self.css_dir / 'opbeta'\n",
    "\n",
    "    def sync_openprops(self):\n",
    "        \"\"\"Sync OpenProps files\"\"\"\n",
    "        # Create directory structure\n",
    "        self.op_dir.mkdir(parents=True, exist_ok=True)\n",
    "        (self.op_dir / 'css').mkdir(exist_ok=True)\n",
    "        (self.op_dir / 'css/color').mkdir(parents=True, exist_ok=True)\n",
    "        (self.op_dir / 'css/sizes').mkdir(parents=True, exist_ok=True)\n",
    "        (self.op_dir / 'css/font').mkdir(parents=True, exist_ok=True)\n",
    "        (self.op_dir / 'css/packs').mkdir(parents=True, exist_ok=True)\n",
    "\n",
    "        # Files to sync\n",
    "        files = [\n",
    "            'index.css',\n",
    "            'css/media-queries.css',\n",
    "            'css/sizes/media.css',\n",
    "            'css/font/lineheight.css',\n",
    "            'css/color/hues.oklch.css',\n",
    "            'utilities.css'\n",
    "        ]\n",
    "\n",
    "        for file in files:\n",
    "            response = httpx.get(f\"{self.OPENPROPS_CDN}/{file}\")\n",
    "            if response.status_code == 200:\n",
    "                (self.op_dir / file).write_text(response.text)\n",
    "                print(f\"Synced {file}\")\n",
    "\n",
    "    def sync_opui(self):\n",
    "        \"\"\"Sync OpenProps UI files\"\"\"\n",
    "        # Core files\n",
    "        core_files = ['normalize.css', 'utils.css', 'theme.css', 'main.css']\n",
    "        for file in core_files:\n",
    "            response = httpx.get(f\"{self.OPUI_GITHUB}/{file}\")\n",
    "            if response.status_code == 200:\n",
    "                (self.css_dir / file).write_text(response.text)\n",
    "                print(f\"Synced {file}\")\n",
    "\n",
    "        # Component directories\n",
    "        components = {\n",
    "            'actions': ['button.css', 'button-group.css', 'icon-button.css', 'toggle-button-group.css'],\n",
    "            'data-display': ['avatar.css', 'badge.css', 'card.css', 'chip.css', 'definition-list.css',\n",
    "                           'divider.css', 'link.css', 'table.css', 'accordion.css', 'list.css'],\n",
    "            'feedback': ['progress.css', 'spinner.css', 'alert.css', 'dialog.css', 'snackbar.css'],\n",
    "            'inputs': ['checkbox-radio.css', 'switch.css', 'range.css', 'field-group.css', 'field.css',\n",
    "                      'select.css', 'text-field.css', 'textarea.css'],\n",
    "            'text': ['typography.css', 'rich-text.css']\n",
    "        }\n",
    "\n",
    "        for dir_name, files in components.items():\n",
    "            dir_path = self.css_dir / dir_name\n",
    "            dir_path.mkdir(parents=True, exist_ok=True)\n",
    "\n",
    "            for file in files:\n",
    "                response = httpx.get(f\"{self.OPUI_GITHUB}/{dir_name}/{file}\")\n",
    "                if response.status_code == 200:\n",
    "                    (dir_path / file).write_text(response.text)\n",
    "                    print(f\"Synced {dir_name}/{file}\")\n",
    "\n",
    "    def sync_all(self):\n",
    "        \"\"\"Sync all files\"\"\"\n",
    "        print(\"Syncing OpenProps files...\")\n",
    "        self.sync_openprops()\n",
    "        print(\"\\nSyncing OpenProps UI files...\")\n",
    "        self.sync_opui()\n",
    "        print(\"\\nSync complete!\")"
   ]
  },
  {
   "cell_type": "code",
   "execution_count": null,
   "metadata": {},
   "outputs": [],
   "source": [
    "#| export\n",
    "\n",
    "ColorType = Literal['red', 'pink', 'purple', 'violet', 'indigo', \n",
    "                   'blue', 'cyan', 'teal', 'green', 'lime', \n",
    "                   'yellow', 'orange']\n",
    "ModeType = Literal['light', 'dark']"
   ]
  },
  {
   "cell_type": "code",
   "execution_count": null,
   "metadata": {},
   "outputs": [],
   "source": [
    "#| export\n",
    "\n",
    "def OpenProps(mode: ModeType = 'dark', color: ColorType = 'cyan'):\n",
    "    \"\"\"FastHTML header components for OpenProps UI\n",
    "    \n",
    "    Args:\n",
    "        mode: 'light' or 'dark' \n",
    "        color: OpenProps OKLCH color\n",
    "    \"\"\"\n",
    "    return [\n",
    "        Link(rel='stylesheet', href='static/css/main.css'),\n",
    "    ]"
   ]
  },
  {
   "cell_type": "code",
   "execution_count": null,
   "metadata": {},
   "outputs": [],
   "source": []
  }
 ],
 "metadata": {
  "kernelspec": {
   "display_name": "Python 3 (ipykernel)",
   "language": "python",
   "name": "python3"
  },
  "language_info": {
   "codemirror_mode": {
    "name": "ipython",
    "version": 3
   },
   "file_extension": ".py",
   "mimetype": "text/x-python",
   "name": "python",
   "nbconvert_exporter": "python",
   "pygments_lexer": "ipython3",
   "version": "3.12.5"
  }
 },
 "nbformat": 4,
 "nbformat_minor": 4
}
