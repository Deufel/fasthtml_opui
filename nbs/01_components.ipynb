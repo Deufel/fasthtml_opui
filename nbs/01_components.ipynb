{
 "cells": [
  {
   "cell_type": "code",
   "execution_count": 1,
   "id": "f817418d-05b5-488e-ab02-faf80e977761",
   "metadata": {},
   "outputs": [],
   "source": [
    "# | default_exp components"
   ]
  },
  {
   "cell_type": "markdown",
   "id": "e5044a30-050d-446b-b567-ed02e2addabd",
   "metadata": {},
   "source": [
    "## Components\n",
    "\n",
    "> This is the componenet helper functions\n",
    "> ... WIP\n",
    "> "
   ]
  },
  {
   "cell_type": "code",
   "execution_count": 2,
   "id": "20724be7-8278-423c-98ea-1e0acd38e082",
   "metadata": {},
   "outputs": [],
   "source": [
    "# | hide\n",
    "from nbdev.showdoc import *\n",
    "from fasthtml.common import ft_hx, Style\n"
   ]
  },
  {
   "cell_type": "code",
   "execution_count": 3,
   "id": "408476cb-a547-42ae-b410-4e3d8040c730",
   "metadata": {},
   "outputs": [],
   "source": [
    "#| export\n",
    "\n",
    "from fasthtml.common import *\n",
    "from fasthtml import ft\n"
   ]
  },
  {
   "cell_type": "code",
   "execution_count": 4,
   "id": "0a17cb29-6018-4404-81a9-fb045f1dc195",
   "metadata": {},
   "outputs": [],
   "source": [
    "#| export\n",
    "\n",
    "openprops_css = \"https://deufel.github.io/css/css/main.css\"\n",
    "\n",
    "def OpenPropsLink():\n",
    "    \"\"\"\n",
    "    Generates a <link> tag for the Open Props CSS stylesheet.\n",
    "    Usage: Include this in the Head() of your FastHTML page.\n",
    "    \"\"\"\n",
    "    return Link(rel=\"stylesheet\", href=openprops_css)\n",
    "\n",
    "# usage Head(OpenPropsLink())"
   ]
  },
  {
   "cell_type": "code",
   "execution_count": 5,
   "id": "0d046223-70eb-4516-b4f0-c2a127cc4c2c",
   "metadata": {},
   "outputs": [],
   "source": [
    "# | export\n",
    "\n",
    "def Button(*c, size=None, variant='outlined', cls=None, **kwargs):\n",
    "    base_cls = ['button']\n",
    "    if size in ['small', 'large']:\n",
    "        base_cls.append(size)\n",
    "    if variant in ['outlined', 'tonal', 'filled', 'elevated']:\n",
    "        base_cls.append(variant)\n",
    "    if cls:\n",
    "        base_cls.append(cls)\n",
    "    full_cls = ' '.join(base_cls)\n",
    "    return ft.Button(*c, cls=full_cls, **kwargs)"
   ]
  },
  {
   "cell_type": "code",
   "execution_count": 6,
   "id": "02f9abf2-5a69-424d-a622-f3252d1fbc5b",
   "metadata": {},
   "outputs": [
    {
     "data": {
      "text/markdown": [
       "```html\n",
       "<button class=\"button small filled\">Click me</button>\n",
       "```"
      ],
      "text/plain": [
       "button(('Click me',),{'class': 'button small filled'})"
      ]
     },
     "execution_count": 6,
     "metadata": {},
     "output_type": "execute_result"
    }
   ],
   "source": [
    "Button(\"Click me\", size=\"small\", variant=\"filled\")"
   ]
  },
  {
   "cell_type": "code",
   "execution_count": 7,
   "id": "595a10df-d8c7-4852-93bb-8145da3c808d",
   "metadata": {},
   "outputs": [],
   "source": [
    "#| export\n",
    "\n",
    "def IconButton(*c, size='small', **kwargs):\n",
    "    \"\"\"\n",
    "    Generates an <button> for icons with Open Props UI styling.\n",
    "    \n",
    "    Args:\n",
    "        *c: Children (e.g., icon elements).\n",
    "        size: Size ('small' by default).\n",
    "        **kwargs: Additional HTML attributes.\n",
    "    \n",
    "    Returns:\n",
    "        FastHTML Button component with appropriate classes.\n",
    "    \"\"\"\n",
    "    cls = ['icon-button']\n",
    "    if size == 'small':\n",
    "        cls.append('small')\n",
    "    return Button(*c, cls=' '.join(cls), **kwargs)"
   ]
  },
  {
   "cell_type": "code",
   "execution_count": 8,
   "id": "2443badf-5f42-4c08-b2c0-e2b8b85214f7",
   "metadata": {},
   "outputs": [
    {
     "data": {
      "text/markdown": [
       "```html\n",
       "<button class=\"button outlined icon-button small\">🔍</button>\n",
       "```"
      ],
      "text/plain": [
       "button(('🔍',),{'class': 'button outlined icon-button small'})"
      ]
     },
     "execution_count": 8,
     "metadata": {},
     "output_type": "execute_result"
    }
   ],
   "source": [
    "\n",
    "IconButton(\"🔍\", size=\"small\")\n"
   ]
  },
  {
   "cell_type": "code",
   "execution_count": 9,
   "id": "6b16b7cc-b6b3-4e5b-bdb5-fa3653deb4aa",
   "metadata": {},
   "outputs": [],
   "source": [
    "#| export\n",
    "\n",
    "def ToggleButtonGroup(*buttons, dynamic=False, size=None, **kwargs):\n",
    "    \"\"\"\n",
    "    Generates a <div> containing toggle buttons with Open Props UI styling.\n",
    "    \n",
    "    Args:\n",
    "        *buttons: Button components to include in the group.\n",
    "        dynamic: Whether the group is dynamic (adds 'dynamic' class).\n",
    "        size: Optional size ('small', 'x-small').\n",
    "        **kwargs: Additional HTML attributes.\n",
    "    \n",
    "    Returns:\n",
    "        FastHTML Div component with appropriate classes and children.\n",
    "    \"\"\"\n",
    "    cls = ['toggle-button-group']\n",
    "    if dynamic:\n",
    "        cls.append('dynamic')\n",
    "    if size in ['small', 'x-small']:\n",
    "        cls.append(size)\n",
    "    return Div(*buttons, cls=' '.join(cls), **kwargs)"
   ]
  },
  {
   "cell_type": "code",
   "execution_count": 10,
   "id": "f59e3925-9074-4d88-b2e1-93f742880f37",
   "metadata": {},
   "outputs": [
    {
     "data": {
      "text/markdown": [
       "```html\n",
       "<div class=\"toggle-button-group dynamic small\">\n",
       "<button class=\"button tonal\">Option 1</button><button class=\"button tonal\">Option 2</button></div>\n",
       "\n",
       "```"
      ],
      "text/plain": [
       "div((button(('Option 1',),{'class': 'button tonal'}), button(('Option 2',),{'class': 'button tonal'})),{'class': 'toggle-button-group dynamic small'})"
      ]
     },
     "execution_count": 10,
     "metadata": {},
     "output_type": "execute_result"
    }
   ],
   "source": [
    "ToggleButtonGroup(\n",
    "    Button(\"Option 1\", variant=\"tonal\"),\n",
    "    Button(\"Option 2\", variant=\"tonal\"),\n",
    "    dynamic=True,\n",
    "    size=\"small\"\n",
    ")"
   ]
  },
  {
   "cell_type": "code",
   "execution_count": 11,
   "id": "a811f314-495e-4630-9259-d72de8b9becd",
   "metadata": {},
   "outputs": [],
   "source": [
    "#| export\n",
    "\n",
    "def Card(*c, variant='text', cls=None, **kwargs):\n",
    "    \"\"\"\n",
    "    Generates a <div> for cards with Open Props UI styling.\n",
    "    \n",
    "    Args:\n",
    "        *c: Children (e.g., Hgroup, Div(cls=\"content\"), Div(cls=\"actions\")).\n",
    "        variant: Variant ('text', 'outlined', 'tonal', 'elevated'). Defaults to 'text'.\n",
    "        cls: Additional classes to add to the card.\n",
    "        **kwargs: Additional HTML attributes.\n",
    "    \n",
    "    Returns:\n",
    "        FastHTML Div component with appropriate classes and children.\n",
    "    \"\"\"\n",
    "    # Base classes include 'card' and the specified variant\n",
    "    base_cls = ['card', variant]\n",
    "    \n",
    "    # Append additional classes if provided\n",
    "    if cls:\n",
    "        base_cls.append(cls)\n",
    "    \n",
    "    # Join all classes into a single string\n",
    "    full_cls = ' '.join(base_cls)\n",
    "    \n",
    "    # Return the Div component with the specified classes and children\n",
    "    return ft.Div(*c, cls=full_cls, **kwargs)"
   ]
  },
  {
   "cell_type": "code",
   "execution_count": 12,
   "id": "7124dccf-5915-40ed-9a2a-5e620aec76ed",
   "metadata": {},
   "outputs": [
    {
     "name": "stdout",
     "output_type": "stream",
     "text": [
      "div((hgroup((p(('Overline',),{}), h2(('Headline',),{'class': 'h3'}), p(('Subhead',),{})),{}), div(('Explain more about the topic shown in the headline and subhead through supporting text.',),{'class': 'content'}), div((button(('Share',),{'class': 'button outlined'}), button(('Learn more',),{'class': 'button outlined'})),{'class': 'actions'})),{'class': 'card outlined'})\n"
     ]
    },
    {
     "data": {
      "text/html": [
       "<div class=\"card outlined\">\n",
       "<hgroup>    <p>Overline</p>\n",
       "    <h2 class=\"h3\">Headline</h2>\n",
       "    <p>Subhead</p>\n",
       "</hgroup>  <div class=\"content\">Explain more about the topic shown in the headline and subhead through supporting text.</div>\n",
       "  <div class=\"actions\">\n",
       "<button class=\"button outlined\">Share</button><button class=\"button outlined\">Learn more</button>  </div>\n",
       "</div>\n"
      ],
      "text/plain": [
       "<IPython.core.display.HTML object>"
      ]
     },
     "metadata": {},
     "output_type": "display_data"
    }
   ],
   "source": [
    "c = Card(\n",
    "    Hgroup(\n",
    "        P(\"Overline\"),\n",
    "        H2(\"Headline\", cls=\"h3\"),\n",
    "        P(\"Subhead\")\n",
    "    ),\n",
    "    Div(\"Explain more about the topic shown in the headline and subhead through supporting text.\", cls=\"content\"),\n",
    "    Div(\n",
    "        Button(\"Share\"),\n",
    "        Button(\"Learn more\"),\n",
    "        cls=\"actions\"\n",
    "    ),\n",
    "    variant=\"outlined\"\n",
    ")\n",
    "\n",
    "print(c)\n",
    "show(c)"
   ]
  },
  {
   "cell_type": "code",
   "execution_count": null,
   "id": "ed7fe68f-c21b-4bc5-bbde-212ba21ade51",
   "metadata": {},
   "outputs": [],
   "source": []
  },
  {
   "cell_type": "code",
   "execution_count": 13,
   "id": "02a03e39-2d61-4bcf-818a-f0126208986c",
   "metadata": {},
   "outputs": [],
   "source": [
    "#| export\n",
    "\n",
    "def Checkbox(*c, label=None, size=None, stack=False, error=False, cls=None, **kwargs):\n",
    "    base_cls = ['checkbox']\n",
    "    if size in ['small', 'large']:\n",
    "        base_cls.append(size)\n",
    "    if stack:\n",
    "        base_cls.append('stack')\n",
    "    if error:\n",
    "        base_cls.append('error')\n",
    "    if cls:\n",
    "        base_cls.append(cls)\n",
    "    full_cls = ' '.join(base_cls)\n",
    "    input_elem = ft.Input(type=\"checkbox\", **kwargs)\n",
    "    children = [input_elem]\n",
    "    if label:\n",
    "        children.append(ft.Span(label, cls=\"label\"))\n",
    "    children.extend(c)\n",
    "    return ft.Label(*children, cls=full_cls)"
   ]
  },
  {
   "cell_type": "code",
   "execution_count": 14,
   "id": "ae3fae5d-9537-41bf-aa6d-f67c9b077d94",
   "metadata": {},
   "outputs": [
    {
     "data": {
      "text/html": [
       "<label class=\"checkbox small error\">  <input type=\"checkbox\">\n",
       "<span class=\"label\">Accept terms</span></label>"
      ],
      "text/plain": [
       "<IPython.core.display.HTML object>"
      ]
     },
     "metadata": {},
     "output_type": "display_data"
    }
   ],
   "source": [
    "show(Checkbox(label=\"Accept terms\", size=\"small\", error=True))"
   ]
  },
  {
   "cell_type": "code",
   "execution_count": 15,
   "id": "3f5c4d4d-e3e9-472c-8c90-b3b3ce2f6198",
   "metadata": {},
   "outputs": [],
   "source": [
    "#| export\n",
    "\n",
    "def FieldGroup(*c, direction='column', disabled=False, error=False, legend=None, **kwargs):\n",
    "    \"\"\"\n",
    "    Generates a <fieldset> for grouping fields with Open Props UI styling.\n",
    "    \n",
    "    Args:\n",
    "        *c: Children (e.g., form fields).\n",
    "        direction: Layout direction ('column' or 'row').\n",
    "        disabled: Whether the fieldset is disabled.\n",
    "        error: Whether to show error state (adds 'error' class).\n",
    "        legend: Optional legend text.\n",
    "        **kwargs: Additional HTML attributes.\n",
    "    \n",
    "    Returns:\n",
    "        FastHTML Fieldset component with appropriate classes and children.\n",
    "    \"\"\"\n",
    "    cls = ['field-group']\n",
    "    if direction == 'row':\n",
    "        cls.append('row')\n",
    "    if error:\n",
    "        cls.append('error')\n",
    "    children = []\n",
    "    if legend:\n",
    "        children.append(Legend(legend))\n",
    "    children.extend(c)\n",
    "    return Fieldset(*children, disabled=disabled, cls=' '.join(cls), **kwargs)"
   ]
  },
  {
   "cell_type": "code",
   "execution_count": 16,
   "id": "6d30b5eb-c38c-42d7-b115-797490b0cd03",
   "metadata": {},
   "outputs": [
    {
     "data": {
      "text/markdown": [
       "```html\n",
       "<fieldset class=\"field-group row\"><legend>Choices</legend><label class=\"checkbox\">    <input type=\"checkbox\">\n",
       "<span class=\"label\">Option 1</span></label><label class=\"checkbox\">    <input type=\"checkbox\">\n",
       "<span class=\"label\">Option 2</span></label></fieldset>\n",
       "```"
      ],
      "text/plain": [
       "fieldset((legend(('Choices',),{}), label((input((),{'type': 'checkbox'}), span(('Option 1',),{'class': 'label'})),{'class': 'checkbox'}), label((input((),{'type': 'checkbox'}), span(('Option 2',),{'class': 'label'})),{'class': 'checkbox'})),{'disabled': False, 'class': 'field-group row'})"
      ]
     },
     "execution_count": 16,
     "metadata": {},
     "output_type": "execute_result"
    }
   ],
   "source": [
    "FieldGroup(\n",
    "    Checkbox(label=\"Option 1\"),\n",
    "    Checkbox(label=\"Option 2\"),\n",
    "    legend=\"Choices\",\n",
    "    direction=\"row\"\n",
    ")"
   ]
  },
  {
   "cell_type": "code",
   "execution_count": 17,
   "id": "ee53a75d-4707-4885-af6a-e53bbd01b270",
   "metadata": {},
   "outputs": [],
   "source": [
    "#| export\n",
    "\n",
    "def Field(*c, size=None, variant='outlined', error=False, autofit=False, **kwargs):\n",
    "    \"\"\"\n",
    "    Generates a <div> container for form fields with Open Props UI styling.\n",
    "    \n",
    "    Args:\n",
    "        *c: Children (e.g., Label, Select/Input, supporting text).\n",
    "        size: Optional size ('small').\n",
    "        variant: Variant ('outlined' or 'filled').\n",
    "        error: Whether to show error state (adds 'error' class).\n",
    "        autofit: Whether to enable auto-fit (adds 'auto-fit' class).\n",
    "        **kwargs: Additional HTML attributes.\n",
    "    \n",
    "    Returns:\n",
    "        FastHTML Div component with appropriate classes and children.\n",
    "    \"\"\"\n",
    "    cls = ['field', variant]\n",
    "    if size == 'small':\n",
    "        cls.append('small')\n",
    "    if error:\n",
    "        cls.append('error')\n",
    "    if autofit:\n",
    "        cls.append('auto-fit')\n",
    "    return Div(*c, cls=' '.join(cls), **kwargs)"
   ]
  },
  {
   "cell_type": "code",
   "execution_count": 18,
   "id": "cd94bb52-b046-45a1-bcd3-7412a2fd8211",
   "metadata": {},
   "outputs": [
    {
     "data": {
      "text/markdown": [
       "```html\n",
       "<div class=\"field filled\">\n",
       "<label>Select an option</label><select><option>One</option><option>Two</option></select>  <div class=\"supporting-text\">Supporting text</div>\n",
       "</div>\n",
       "\n",
       "```"
      ],
      "text/plain": [
       "div((label(('Select an option',),{}), select((option(('One',),{}), option(('Two',),{})),{}), div(('Supporting text',),{'class': 'supporting-text'})),{'class': 'field filled'})"
      ]
     },
     "execution_count": 18,
     "metadata": {},
     "output_type": "execute_result"
    }
   ],
   "source": [
    "Field(\n",
    "    Label(\"Select an option\"),\n",
    "    Select(Option(\"One\"), Option(\"Two\")),\n",
    "    Div(\"Supporting text\", cls=\"supporting-text\"),\n",
    "    variant=\"filled\"\n",
    ")"
   ]
  },
  {
   "cell_type": "code",
   "execution_count": 19,
   "id": "93242bdd-06e7-4be3-8fb2-c78aebbc266d",
   "metadata": {},
   "outputs": [],
   "source": [
    "#| export\n",
    "\n",
    "from fasthtml import ft\n",
    "\n",
    "def Select(*options, size=None, variant='outlined', error=False, autofit=False, **kwargs):\n",
    "    \"\"\"\n",
    "    Generates a <select> field with Open Props UI styling.\n",
    "    \n",
    "    Args:\n",
    "        *options: Option components.\n",
    "        size: Optional size ('small').\n",
    "        variant: Variant ('outlined' or 'filled').\n",
    "        error: Whether to show error state.\n",
    "        autofit: Whether to enable auto-fit.\n",
    "        **kwargs: Additional HTML attributes for the select.\n",
    "    \n",
    "    Returns:\n",
    "        FastHTML Field component wrapping the Select.\n",
    "    \"\"\"\n",
    "    select_elem = ft.Select(*options, **kwargs)\n",
    "    return Field(select_elem, size=size, variant=variant, error=error, autofit=autofit)"
   ]
  },
  {
   "cell_type": "code",
   "execution_count": 20,
   "id": "7450a13a-c8e7-41b6-bacb-103b3a4bc156",
   "metadata": {},
   "outputs": [
    {
     "data": {
      "text/markdown": [
       "```html\n",
       "<div class=\"field filled\">\n",
       "<select><option value=\"1\">One</option><option value=\"2\">Two</option></select></div>\n",
       "\n",
       "```"
      ],
      "text/plain": [
       "div((select((option(('One',),{'value': '1'}), option(('Two',),{'value': '2'})),{}),),{'class': 'field filled'})"
      ]
     },
     "execution_count": 20,
     "metadata": {},
     "output_type": "execute_result"
    }
   ],
   "source": [
    "Select(\n",
    "    Option(\"One\", value=\"1\"),\n",
    "    Option(\"Two\", value=\"2\"),\n",
    "    variant=\"filled\"\n",
    ")"
   ]
  },
  {
   "cell_type": "code",
   "execution_count": 21,
   "id": "901fc843-24d6-4dac-a26c-a0ee963cb5d8",
   "metadata": {},
   "outputs": [],
   "source": [
    "#| export\n",
    "\n",
    "def Accordion(summary, *content, variant='text', **kwargs):\n",
    "    \"\"\"\n",
    "    Generates a <details> element for accordion with Open Props UI styling.\n",
    "    \n",
    "    Args:\n",
    "        summary: Summary text or element.\n",
    "        *content: Content inside the accordion.\n",
    "        variant: Variant ('text' by default).\n",
    "        **kwargs: Additional HTML attributes.\n",
    "    \n",
    "    Returns:\n",
    "        FastHTML Details component with appropriate classes and children.\n",
    "    \"\"\"\n",
    "    cls = ['accordion', variant]\n",
    "    return Details(\n",
    "        Summary(summary),\n",
    "        Div(*content, cls=\"content\"),\n",
    "        cls=' '.join(cls),\n",
    "        **kwargs\n",
    "    )"
   ]
  },
  {
   "cell_type": "code",
   "execution_count": 22,
   "id": "7e05921c-f27c-448a-8003-f6c09e7fd87a",
   "metadata": {},
   "outputs": [
    {
     "data": {
      "text/markdown": [
       "```html\n",
       "<details class=\"accordion text\"><summary>Details</summary>  <div class=\"content\">\n",
       "    <p>More info</p>\n",
       "  </div>\n",
       "</details>\n",
       "```"
      ],
      "text/plain": [
       "details((summary(('Details',),{}), div((p(('More info',),{}),),{'class': 'content'})),{'class': 'accordion text'})"
      ]
     },
     "execution_count": 22,
     "metadata": {},
     "output_type": "execute_result"
    }
   ],
   "source": [
    "Accordion(\"Details\", P(\"More info\"), variant=\"text\")"
   ]
  },
  {
   "cell_type": "code",
   "execution_count": 23,
   "id": "cd2b62e3-39e7-4d30-b508-97b6022e01a7",
   "metadata": {},
   "outputs": [],
   "source": [
    "#| export\n",
    "\n",
    "def Avatar(*c, variant=None, cls=None, **kwargs):\n",
    "    # Base class for the avatar\n",
    "    base_cls = ['avatar']\n",
    "    \n",
    "    # Add variant class if specified\n",
    "    if variant in ['squared', 'rounded']:\n",
    "        base_cls.append(variant)\n",
    "    \n",
    "    # Append any additional user-provided classes\n",
    "    if cls:\n",
    "        base_cls.append(cls)\n",
    "    \n",
    "    # Combine all classes into a single string\n",
    "    full_cls = ' '.join(base_cls)\n",
    "    \n",
    "    # Return a div with the children and combined classes\n",
    "    return Div(*c, cls=full_cls, **kwargs)\n",
    "\n",
    "def AvatarGroup(*avatars, spacing=None, cls=None, **kwargs):\n",
    "    # Base class for the avatar group\n",
    "    base_cls = ['avatar-group']\n",
    "    \n",
    "    # Add spacing class if specified\n",
    "    if spacing in ['gap-small', 'gap-x-small']:\n",
    "        base_cls.append(spacing)\n",
    "    \n",
    "    # Append any additional user-provided classes\n",
    "    if cls:\n",
    "        base_cls.append(cls)\n",
    "    \n",
    "    # Combine all classes into a single string\n",
    "    full_cls = ' '.join(base_cls)\n",
    "    \n",
    "    # Return a div with the avatar children\n",
    "    return Div(*avatars, cls=full_cls, **kwargs)"
   ]
  },
  {
   "cell_type": "code",
   "execution_count": 24,
   "id": "e2de7976-8561-454e-8ac6-9ad3c8824a74",
   "metadata": {},
   "outputs": [
    {
     "data": {
      "text/markdown": [
       "```html\n",
       "<div class=\"avatar-group gap-small\">\n",
       "  <div alt=\"User 1\" class=\"avatar rounded\">user1.jpg</div>\n",
       "  <div alt=\"User 2\" class=\"avatar rounded\">user2.jpg</div>\n",
       "</div>\n",
       "\n",
       "```"
      ],
      "text/plain": [
       "div((div(('user1.jpg',),{'alt': 'User 1', 'class': 'avatar rounded'}), div(('user2.jpg',),{'alt': 'User 2', 'class': 'avatar rounded'})),{'class': 'avatar-group gap-small'})"
      ]
     },
     "execution_count": 24,
     "metadata": {},
     "output_type": "execute_result"
    }
   ],
   "source": [
    "AvatarGroup(\n",
    "    Avatar(\"user1.jpg\", alt=\"User 1\", variant=\"rounded\"),\n",
    "    Avatar(\"user2.jpg\", alt=\"User 2\", variant=\"rounded\"),\n",
    "    spacing=\"gap-small\"\n",
    ")"
   ]
  },
  {
   "cell_type": "code",
   "execution_count": 25,
   "id": "7491b965-f5cb-4d5b-981f-2b910fba490c",
   "metadata": {},
   "outputs": [],
   "source": [
    "#| export\n",
    "\n",
    "def Badge(*c, label, variant=None, color=None, invisible=False, alignment='start-end', cls=None, **kwargs):\n",
    "    \"\"\"\n",
    "    Creates a badge component based on Open Props UI guidelines.\n",
    "\n",
    "    Args:\n",
    "        *c: Optional children (e.g., an icon or SVG).\n",
    "        label (str): The content to display in the badge (via aria-label).\n",
    "        variant (str, optional): The variant, either None (default) or 'dot'.\n",
    "        color (str, optional): The color, one of 'error', 'ok', 'good', or 'warning'.\n",
    "        invisible (bool, optional): Whether the badge is invisible. Defaults to False.\n",
    "        alignment (str, optional): The alignment position, one of 'start-start', 'start-end',\n",
    "                                   'end-start', or 'end-end'. Defaults to 'start-end'.\n",
    "        cls (str, optional): Additional custom classes to append.\n",
    "        **kwargs: Additional HTML attributes to pass to the span element.\n",
    "\n",
    "    Returns:\n",
    "        Span: A FastHTML Span component representing the badge.\n",
    "    \"\"\"\n",
    "    # Base class for the badge\n",
    "    base_cls = ['badge']\n",
    "\n",
    "    # Add variant class if specified\n",
    "    if variant == 'dot':\n",
    "        base_cls.append('dot')\n",
    "\n",
    "    # Add color class if specified\n",
    "    if color in ['error', 'ok', 'good', 'warning']:\n",
    "        base_cls.append(color)\n",
    "\n",
    "    # Add invisible class if specified\n",
    "    if invisible:\n",
    "        base_cls.append('invisible')\n",
    "\n",
    "    # Add alignment class\n",
    "    if alignment in ['start-start', 'start-end', 'end-start', 'end-end']:\n",
    "        base_cls.append(alignment)\n",
    "\n",
    "    # Append any additional user-provided classes\n",
    "    if cls:\n",
    "        base_cls.append(cls)\n",
    "\n",
    "    # Combine all classes into a single string\n",
    "    full_cls = ' '.join(base_cls)\n",
    "\n",
    "    # Return a span with the children, aria-label, and combined classes\n",
    "    return Span(*c, aria_label=label, cls=full_cls, **kwargs)"
   ]
  },
  {
   "cell_type": "code",
   "execution_count": 26,
   "id": "79a1fd8b-8b08-4e4a-83e0-633c0e512c20",
   "metadata": {},
   "outputs": [
    {
     "data": {
      "text/markdown": [
       "```html\n",
       "<span aria-label=\"New\" class=\"badge dot good start-end\"></span>\n",
       "```"
      ],
      "text/plain": [
       "span((),{'aria-label': 'New', 'class': 'badge dot good start-end'})"
      ]
     },
     "execution_count": 26,
     "metadata": {},
     "output_type": "execute_result"
    }
   ],
   "source": [
    "Badge(label=\"New\", color=\"good\", variant=\"dot\")"
   ]
  },
  {
   "cell_type": "code",
   "execution_count": 27,
   "id": "8692fc25-855c-4ab6-ad8f-3a9ccc8f02a7",
   "metadata": {},
   "outputs": [],
   "source": [
    "#| export\n",
    "\n",
    "def Chip(*c, tag='div', size=None, variant='tonal', **kwargs):\n",
    "    \"\"\"\n",
    "    Generates a chip component with Open Props UI styling.\n",
    "    \n",
    "    Args:\n",
    "        *c: Children (e.g., chip text).\n",
    "        tag: Base tag ('div', 'a', or 'button').\n",
    "        size: Optional size ('small', 'multiline').\n",
    "        variant: Variant ('tonal' by default).\n",
    "        **kwargs: Additional HTML attributes.\n",
    "    \n",
    "    Returns:\n",
    "        FastHTML component (Div, A, or Button) with appropriate classes.\n",
    "    \"\"\"\n",
    "    cls = ['chip', variant]\n",
    "    if size in ['small', 'multiline']:\n",
    "        cls.append(size)\n",
    "    if tag == 'div':\n",
    "        return Div(*c, cls=' '.join(cls), **kwargs)\n",
    "    elif tag == 'a':\n",
    "        return A(*c, cls=' '.join(cls), **kwargs)\n",
    "    elif tag == 'button':\n",
    "        return Button(*c, cls=' '.join(cls), **kwargs)\n",
    "    else:\n",
    "        raise ValueError(\"Invalid tag for Chip. Must be 'div', 'a', or 'button'.\")"
   ]
  },
  {
   "cell_type": "code",
   "execution_count": 28,
   "id": "58286976-5bba-4cb4-a283-9b48aca60401",
   "metadata": {},
   "outputs": [
    {
     "data": {
      "text/markdown": [
       "```html\n",
       "<a href=\"#\" class=\"chip tonal\">Tag</a>\n",
       "```"
      ],
      "text/plain": [
       "a(('Tag',),{'href': '#', 'class': 'chip tonal'})"
      ]
     },
     "execution_count": 28,
     "metadata": {},
     "output_type": "execute_result"
    }
   ],
   "source": [
    "Chip(\"Tag\", tag=\"a\", href=\"#\", variant=\"tonal\")"
   ]
  },
  {
   "cell_type": "code",
   "execution_count": 29,
   "id": "7149b65f-32c8-465e-9d88-00e0d3bf1417",
   "metadata": {},
   "outputs": [],
   "source": [
    "#| export\n",
    "\n",
    "def Alert(*c, severity='neutral', variant='tonal', **kwargs):\n",
    "    \"\"\"\n",
    "    Generates a <div> for alerts with Open Props UI styling.\n",
    "    \n",
    "    Args:\n",
    "        *c: Children (e.g., alert message).\n",
    "        severity: Severity class ('neutral' by default).\n",
    "        variant: Variant ('tonal' by default).\n",
    "        **kwargs: Additional HTML attributes.\n",
    "    \n",
    "    Returns:\n",
    "        FastHTML Div component with appropriate classes and role.\n",
    "    \"\"\"\n",
    "    cls = ['alert', severity, variant]\n",
    "    return Div(*c, cls=' '.join(cls), role=\"alert\", **kwargs)"
   ]
  },
  {
   "cell_type": "code",
   "execution_count": 30,
   "id": "33e57f93-b397-4fde-b5d2-1e1ceb897653",
   "metadata": {},
   "outputs": [
    {
     "data": {
      "text/markdown": [
       "```html\n",
       "<div role=\"alert\" class=\"alert warning tonal\">Warning!</div>\n",
       "\n",
       "```"
      ],
      "text/plain": [
       "div(('Warning!',),{'role': 'alert', 'class': 'alert warning tonal'})"
      ]
     },
     "execution_count": 30,
     "metadata": {},
     "output_type": "execute_result"
    }
   ],
   "source": [
    "Alert(\"Warning!\", severity=\"warning\", variant=\"tonal\")"
   ]
  },
  {
   "cell_type": "code",
   "execution_count": 31,
   "id": "f7f52d3d-181f-4d3b-8d28-85f0e4bbc64d",
   "metadata": {},
   "outputs": [],
   "source": [
    "#| export\n",
    "\n",
    "def Snackbar(*c, position='bottom-left', absolute=False, visible=False, **kwargs):\n",
    "    \"\"\"\n",
    "    Generates a <div> for snackbars with Open Props UI styling.\n",
    "    \n",
    "    Args:\n",
    "        *c: Children (e.g., snackbar message).\n",
    "        position: Position class ('bottom-left' by default).\n",
    "        absolute: Whether to use absolute positioning (adds 'absolute' class).\n",
    "        visible: Whether the snackbar is visible (adds 'visible' class).\n",
    "        **kwargs: Additional HTML attributes.\n",
    "    \n",
    "    Returns:\n",
    "        FastHTML Div component with appropriate classes and role.\n",
    "    \"\"\"\n",
    "    cls = ['snackbar', position]\n",
    "    if absolute:\n",
    "        cls.append('absolute')\n",
    "    if visible:\n",
    "        cls.append('visible')\n",
    "    return Div(*c, cls=' '.join(cls), role=\"status\", **kwargs)"
   ]
  },
  {
   "cell_type": "code",
   "execution_count": 32,
   "id": "698564b1-2af7-4db9-abbb-c0120c039c1e",
   "metadata": {},
   "outputs": [
    {
     "data": {
      "text/markdown": [
       "```html\n",
       "<div role=\"status\" class=\"snackbar bottom-left visible\">Saved</div>\n",
       "\n",
       "```"
      ],
      "text/plain": [
       "div(('Saved',),{'role': 'status', 'class': 'snackbar bottom-left visible'})"
      ]
     },
     "execution_count": 32,
     "metadata": {},
     "output_type": "execute_result"
    }
   ],
   "source": [
    "Snackbar(\"Saved\", position=\"bottom-left\", visible=True)\n"
   ]
  },
  {
   "cell_type": "code",
   "execution_count": 33,
   "id": "b380cc4f-aef9-4c23-87ca-6d6a9c2575d7",
   "metadata": {},
   "outputs": [],
   "source": [
    "#| export\n",
    "\n",
    "def Tabs(tabs, variant='underlined', panels=None, cls=None, **kwargs):\n",
    "    \"\"\"\n",
    "    Creates a tab navigation component based on Open Props UI guidelines.\n",
    "\n",
    "    Args:\n",
    "        tabs (list): List of tuples [(label, id, selected), ...] where:\n",
    "                     - label: str or FT component for the tab button content\n",
    "                     - id: str, unique identifier for the tab\n",
    "                     - selected: bool, whether the tab is initially selected\n",
    "        variant (str, optional): The variant, either 'underlined' (default) or 'filled'.\n",
    "        panels (list, optional): List of tuples [(content, id), ...] for tab panels.\n",
    "                                 If None, only tab buttons are rendered.\n",
    "        cls (str, optional): Additional custom classes to append to the nav element.\n",
    "        **kwargs: Additional HTML attributes to pass to the nav element.\n",
    "\n",
    "    Returns:\n",
    "        Nav: A FastHTML Nav component representing the tabs, optionally with panels.\n",
    "    \"\"\"\n",
    "    # Validate variant\n",
    "    if variant not in ['underlined', 'filled']:\n",
    "        raise ValueError(\"Variant must be 'underlined' or 'filled'\")\n",
    "\n",
    "    # Base classes for the tabs\n",
    "    base_cls = ['tabs', variant]\n",
    "\n",
    "    # Append additional classes if provided\n",
    "    if cls:\n",
    "        base_cls.append(cls)\n",
    "    full_cls = ' '.join(base_cls)\n",
    "\n",
    "    # Generate tab buttons using ft.Button to avoid custom styling\n",
    "    tab_buttons = []\n",
    "    for i, (label, tab_id, selected) in enumerate(tabs):\n",
    "        btn = ft.Button(\n",
    "            label,\n",
    "            id=tab_id,\n",
    "            role=\"tab\",\n",
    "            aria_controls=f\"{tab_id}-panel\" if panels else None,\n",
    "            aria_selected=str(selected).lower(),\n",
    "            tabindex=\"0\" if selected else \"-1\",\n",
    "            cls=\"selected\" if selected else None\n",
    "        )\n",
    "        tab_buttons.append(btn)\n",
    "\n",
    "    # Wrap buttons in a tablist\n",
    "    tablist = Div(\n",
    "        *tab_buttons,\n",
    "        role=\"tablist\",\n",
    "        aria_label=f\"{variant.capitalize()} tabs\"\n",
    "    )\n",
    "\n",
    "    # If panels are provided, generate them\n",
    "    if panels:\n",
    "        tab_panels = [\n",
    "            Div(\n",
    "                content,\n",
    "                id=f\"{tab_id}-panel\",\n",
    "                role=\"tabpanel\",\n",
    "                aria_labelledby=tab_id,\n",
    "                hidden=not selected\n",
    "            )\n",
    "            for (label, tab_id, selected), (content, _) in zip(tabs, panels)\n",
    "        ]\n",
    "        return Nav(tablist, *tab_panels, cls=full_cls, **kwargs)\n",
    "    \n",
    "    # If no panels, return just the tab navigation\n",
    "    return Nav(tablist, cls=full_cls, **kwargs)"
   ]
  },
  {
   "cell_type": "code",
   "execution_count": 34,
   "id": "69872c0e-a88b-4bca-98be-195f588dd634",
   "metadata": {},
   "outputs": [
    {
     "data": {
      "text/markdown": [
       "```html\n",
       "<nav class=\"tabs underlined\">\n",
       "  <div role=\"tablist\" aria-label=\"Underlined tabs\">\n",
       "<button role=\"tab\" aria-selected=\"true\" tabindex=\"0\" id=\"tab-1\" class=\"selected\" name=\"tab-1\">Profile</button><button role=\"tab\" aria-selected=\"false\" tabindex=\"-1\" id=\"tab-2\" name=\"tab-2\">Settings</button><button role=\"tab\" aria-selected=\"false\" tabindex=\"-1\" id=\"tab-3\" name=\"tab-3\">Notifications</button>  </div>\n",
       "</nav>\n",
       "\n",
       "```"
      ],
      "text/plain": [
       "nav((div((button(('Profile',),{'role': 'tab', 'aria-selected': 'true', 'tabindex': '0', 'id': 'tab-1', 'class': 'selected', 'name': 'tab-1'}), button(('Settings',),{'role': 'tab', 'aria-selected': 'false', 'tabindex': '-1', 'id': 'tab-2', 'name': 'tab-2'}), button(('Notifications',),{'role': 'tab', 'aria-selected': 'false', 'tabindex': '-1', 'id': 'tab-3', 'name': 'tab-3'})),{'role': 'tablist', 'aria-label': 'Underlined tabs'}),),{'class': 'tabs underlined'})"
      ]
     },
     "execution_count": 34,
     "metadata": {},
     "output_type": "execute_result"
    }
   ],
   "source": [
    "tabs = [\n",
    "    (\"Profile\", \"tab-1\", True),\n",
    "    (\"Settings\", \"tab-2\", False),\n",
    "    (\"Notifications\", \"tab-3\", False)\n",
    "]\n",
    "Tabs(tabs, variant=\"underlined\")"
   ]
  },
  {
   "cell_type": "code",
   "execution_count": 35,
   "id": "f280966f-91ed-4838-a9e1-4036c693ddce",
   "metadata": {},
   "outputs": [
    {
     "data": {
      "text/markdown": [
       "```html\n",
       "<nav class=\"tabs filled\">\n",
       "  <div role=\"tablist\" aria-label=\"Filled tabs\">\n",
       "<button role=\"tab\" aria-controls=\"tab-1-panel\" aria-selected=\"true\" tabindex=\"0\" id=\"tab-1\" class=\"selected\" name=\"tab-1\">Korg</button><button role=\"tab\" aria-controls=\"tab-2-panel\" aria-selected=\"false\" tabindex=\"-1\" id=\"tab-2\" name=\"tab-2\">Yamaha</button><button role=\"tab\" aria-controls=\"tab-3-panel\" aria-selected=\"false\" tabindex=\"-1\" id=\"tab-3\" name=\"tab-3\">Roland</button>  </div>\n",
       "  <div role=\"tabpanel\" aria-labelledby=\"tab-1\" id=\"tab-1-panel\">\n",
       "    <p>Korg content</p>\n",
       "  </div>\n",
       "  <div role=\"tabpanel\" aria-labelledby=\"tab-2\" hidden id=\"tab-2-panel\">\n",
       "    <p>Yamaha content</p>\n",
       "  </div>\n",
       "  <div role=\"tabpanel\" aria-labelledby=\"tab-3\" hidden id=\"tab-3-panel\">\n",
       "    <p>Roland content</p>\n",
       "  </div>\n",
       "</nav>\n",
       "\n",
       "```"
      ],
      "text/plain": [
       "nav((div((button(('Korg',),{'role': 'tab', 'aria-controls': 'tab-1-panel', 'aria-selected': 'true', 'tabindex': '0', 'id': 'tab-1', 'class': 'selected', 'name': 'tab-1'}), button(('Yamaha',),{'role': 'tab', 'aria-controls': 'tab-2-panel', 'aria-selected': 'false', 'tabindex': '-1', 'id': 'tab-2', 'name': 'tab-2'}), button(('Roland',),{'role': 'tab', 'aria-controls': 'tab-3-panel', 'aria-selected': 'false', 'tabindex': '-1', 'id': 'tab-3', 'name': 'tab-3'})),{'role': 'tablist', 'aria-label': 'Filled tabs'}), div((p(('Korg content',),{}),),{'role': 'tabpanel', 'aria-labelledby': 'tab-1', 'hidden': False, 'id': 'tab-1-panel'}), div((p(('Yamaha content',),{}),),{'role': 'tabpanel', 'aria-labelledby': 'tab-2', 'hidden': True, 'id': 'tab-2-panel'}), div((p(('Roland content',),{}),),{'role': 'tabpanel', 'aria-labelledby': 'tab-3', 'hidden': True, 'id': 'tab-3-panel'})),{'class': 'tabs filled'})"
      ]
     },
     "execution_count": 35,
     "metadata": {},
     "output_type": "execute_result"
    }
   ],
   "source": [
    "tabs = [\n",
    "    (\"Korg\", \"tab-1\", True),\n",
    "    (\"Yamaha\", \"tab-2\", False),\n",
    "    (\"Roland\", \"tab-3\", False)\n",
    "]\n",
    "panels = [\n",
    "    (P(\"Korg content\"), \"tab-1\"),\n",
    "    (P(\"Yamaha content\"), \"tab-2\"),\n",
    "    (P(\"Roland content\"), \"tab-3\")\n",
    "]\n",
    "Tabs(tabs, variant=\"filled\", panels=panels)"
   ]
  },
  {
   "cell_type": "markdown",
   "id": "22679179-0ff3-4e3e-9fa7-61db010213bb",
   "metadata": {},
   "source": [
    "## Testing temporary"
   ]
  },
  {
   "cell_type": "code",
   "execution_count": 36,
   "id": "1caa684e-d0b8-4f2d-be42-24a4a60d3d8e",
   "metadata": {},
   "outputs": [],
   "source": [
    "\n",
    "from fasthtml.jupyter import JupyUvi, HTMX"
   ]
  },
  {
   "cell_type": "code",
   "execution_count": 37,
   "id": "f3511094-0eba-436f-b809-4ef734af4499",
   "metadata": {},
   "outputs": [],
   "source": [
    "# Add HighlightJS to your headers\n",
    "app, rt = fast_app(\n",
    "    exts='head-support',\n",
    "    pico=False,\n",
    "    hdrs=(\n",
    "        Link(rel='stylesheet', href='https://deufel.github.io/css/css/main.css'),\n",
    "\n",
    "        \n",
    "        # Add HighlightJS with CSS support\n",
    "        HighlightJS(langs=['css']),\n",
    "        # Add Tokyo Night theme\n",
    "        Link(rel='stylesheet',\n",
    "             href='https://cdnjs.cloudflare.com/ajax/libs/highlight.js/11.8.0/styles/tokyo-night-dark.min.css')\n",
    "    )\n",
    ")"
   ]
  },
  {
   "cell_type": "code",
   "execution_count": 66,
   "id": "2f7d4205-7bec-4eb6-8888-0054920206ea",
   "metadata": {},
   "outputs": [],
   "source": [
    "@rt(\"/\")\n",
    "def index():\n",
    "    return Titled(\"Open Props UI Test Page\",\n",
    "        Div(\n",
    "            H2(\"Button Components\"),\n",
    "            Button(\"Default Button\"),\n",
    "            Button(\"Small Button\", size=\"small\"),\n",
    "            Button(\"Large Button\", size=\"large\"),\n",
    "            Button(\"Outlined Button\", variant=\"elevated\"),\n",
    "            H2(\"Tabs\"),\n",
    "            Tabs(tabs, variant=\"underlined\"),\n",
    "            Tabs(tabs, variant=\"filled\", panels=panels),\n",
    "            H2(\"Input Components\"),\n",
    "            Checkbox(label=\"Accept terms\", size=\"small\", error=True),\n",
    "            FieldGroup(\n",
    "                Checkbox(label=\"Option 1\"),\n",
    "                Checkbox(label=\"Option 2\"),\n",
    "                legend=\"Choices\",\n",
    "                direction=\"row\"\n",
    "            ),\n",
    "            Select(Option(\"One\"), Option(\"Two\"), variant=\"filled\"),\n",
    "            H2(\"Data Display Components\"),\n",
    "            Card(\n",
    "                Hgroup(H3(\"Card Title\")),\n",
    "                P(\"This is a card content.\"),\n",
    "                variant=\"outlined\"\n",
    "            ),\n",
    "            Hr(),\n",
    "            H2('Acordian'),\n",
    "            Accordion(\"Details\", P(\"More info\"), variant=\"text\"),\n",
    "            Hr(),\n",
    "            H2(\"Avatar\"),\n",
    "            Avatar(\n",
    "                Img(src=\"https://picsum.photos/seed/user1/100\", alt=\"User 1\"),\n",
    "                variant=\"rounded\"\n",
    "            ),\n",
    "           AvatarGroup(\n",
    "                Avatar(Img(src=\"https://picsum.photos/seed/user1/100\", alt=\"User 1\"), variant=\"rounded\"),\n",
    "                Avatar(Img(src=\"https://picsum.photos/seed/user2/100\", alt=\"User 2\"), variant=\"rounded\"),\n",
    "                spacing=\"gap-small\"\n",
    "            ),\n",
    "            Hr(),\n",
    "            CustomButton(\"Custom Button\"),\n",
    "            Switch(\"Switch Test\"),\n",
    "            Hr(),\n",
    "            Badge(label=\"New\", color=\"good\", variant=\"dot\"),\n",
    "            Badge(Button(\"New\"), color=\"bad\", label=\"5\"),\n",
    "            H2(\"Feedback Components\"),\n",
    "            Alert(\"This is an alert!\", severity=\"warning\", variant=\"tonal\"),\n",
    "            Snackbar(\"Snackbar message\", position=\"bottom-right\", visible=True),\n",
    "            Tabs(tabs, variant=\"filled\", panels=panels),\n",
    "            \n",
    "        )\n",
    "    )"
   ]
  },
  {
   "cell_type": "code",
   "execution_count": 39,
   "id": "bf1c7413-a21f-4a05-be32-4ad77be4b147",
   "metadata": {},
   "outputs": [
    {
     "data": {
      "text/html": [
       "\n",
       "<script>\n",
       "document.body.addEventListener('htmx:configRequest', (event) => {\n",
       "    if(event.detail.path.includes('://')) return;\n",
       "    htmx.config.selfRequestsOnly=false;\n",
       "    event.detail.path = `${location.protocol}//${location.hostname}:8000${event.detail.path}`;\n",
       "});\n",
       "</script>"
      ],
      "text/plain": [
       "<IPython.core.display.HTML object>"
      ]
     },
     "metadata": {},
     "output_type": "display_data"
    }
   ],
   "source": [
    "server = JupyUvi(app)"
   ]
  },
  {
   "cell_type": "code",
   "execution_count": 40,
   "id": "6b2d1472-c742-441d-91d5-b44aabc5159d",
   "metadata": {},
   "outputs": [
    {
     "data": {
      "text/markdown": [
       "```html\n",
       "<nav class=\"tabs filled\">\n",
       "  <div role=\"tablist\" aria-label=\"Filled tabs\">\n",
       "<button role=\"tab\" aria-controls=\"tab-1-panel\" aria-selected=\"true\" tabindex=\"0\" id=\"tab-1\" class=\"selected\" name=\"tab-1\">Korg</button><button role=\"tab\" aria-controls=\"tab-2-panel\" aria-selected=\"false\" tabindex=\"-1\" id=\"tab-2\" name=\"tab-2\">Yamaha</button><button role=\"tab\" aria-controls=\"tab-3-panel\" aria-selected=\"false\" tabindex=\"-1\" id=\"tab-3\" name=\"tab-3\">Roland</button>  </div>\n",
       "  <div role=\"tabpanel\" aria-labelledby=\"tab-1\" id=\"tab-1-panel\">\n",
       "    <p>Korg content</p>\n",
       "  </div>\n",
       "  <div role=\"tabpanel\" aria-labelledby=\"tab-2\" hidden id=\"tab-2-panel\">\n",
       "    <p>Yamaha content</p>\n",
       "  </div>\n",
       "  <div role=\"tabpanel\" aria-labelledby=\"tab-3\" hidden id=\"tab-3-panel\">\n",
       "    <p>Roland content</p>\n",
       "  </div>\n",
       "</nav>\n",
       "\n",
       "```"
      ],
      "text/plain": [
       "nav((div((button(('Korg',),{'role': 'tab', 'aria-controls': 'tab-1-panel', 'aria-selected': 'true', 'tabindex': '0', 'id': 'tab-1', 'class': 'selected', 'name': 'tab-1'}), button(('Yamaha',),{'role': 'tab', 'aria-controls': 'tab-2-panel', 'aria-selected': 'false', 'tabindex': '-1', 'id': 'tab-2', 'name': 'tab-2'}), button(('Roland',),{'role': 'tab', 'aria-controls': 'tab-3-panel', 'aria-selected': 'false', 'tabindex': '-1', 'id': 'tab-3', 'name': 'tab-3'})),{'role': 'tablist', 'aria-label': 'Filled tabs'}), div((p(('Korg content',),{}),),{'role': 'tabpanel', 'aria-labelledby': 'tab-1', 'hidden': False, 'id': 'tab-1-panel'}), div((p(('Yamaha content',),{}),),{'role': 'tabpanel', 'aria-labelledby': 'tab-2', 'hidden': True, 'id': 'tab-2-panel'}), div((p(('Roland content',),{}),),{'role': 'tabpanel', 'aria-labelledby': 'tab-3', 'hidden': True, 'id': 'tab-3-panel'})),{'class': 'tabs filled'})"
      ]
     },
     "execution_count": 40,
     "metadata": {},
     "output_type": "execute_result"
    }
   ],
   "source": [
    "Tabs(tabs, variant=\"filled\", panels=panels)"
   ]
  },
  {
   "cell_type": "markdown",
   "id": "475081ed-2b7b-4d68-b49e-5d31d9d632d2",
   "metadata": {},
   "source": [
    "## More scratch work.."
   ]
  },
  {
   "cell_type": "code",
   "execution_count": 55,
   "id": "47c9d5e7-f44f-40a6-8c2c-1f0a8e732ddb",
   "metadata": {},
   "outputs": [],
   "source": [
    "def setup_base_styles():\n",
    "    return Script(\"\"\"\n",
    "        if (!document.getElementById('base-styles')) {\n",
    "            const style = document.createElement('style');\n",
    "            style.id = 'base-styles';\n",
    "            style.textContent = `\n",
    "                @layer openprops, normalize, utils, theme, components.base, components.has-deps;\n",
    "            `;\n",
    "            document.head.prepend(style);\n",
    "            \n",
    "            // Load CDN resources once\n",
    "            const links = [\n",
    "                {href: 'opbeta/css/media-queries.css', layer: 'openprops'},\n",
    "                {href: 'opbeta/index.css', layer: 'openprops'},\n",
    "                // Add other CDN resources...\n",
    "            ];\n",
    "            \n",
    "            links.forEach(({href, layer}) => {\n",
    "                if (!document.querySelector(`link[href=\"${href}\"]`)) {\n",
    "                    const link = document.createElement('link');\n",
    "                    link.rel = 'stylesheet';\n",
    "                    link.href = href;\n",
    "                    link.setAttribute('layer', layer);\n",
    "                    document.head.appendChild(link);\n",
    "                }\n",
    "            });\n",
    "        }\n",
    "    \"\"\")\n"
   ]
  },
  {
   "cell_type": "code",
   "execution_count": 72,
   "id": "36820962-08d3-45ec-a958-37b50d291d34",
   "metadata": {},
   "outputs": [],
   "source": [
    "def setup_styles_and_registry():\n",
    "    return Script(\"\"\"\n",
    "        // Initialize our style management system if it doesn't exist\n",
    "        if (!window.styleSystem) {\n",
    "            window.styleSystem = {\n",
    "                registry: new Map(),\n",
    "                layers: {\n",
    "                    base: false,\n",
    "                    cdn: new Set(),\n",
    "                }\n",
    "            };\n",
    "            \n",
    "            // Setup base layer structure\n",
    "            const baseStyle = document.createElement('style');\n",
    "            baseStyle.id = 'base-styles';\n",
    "            baseStyle.textContent = `\n",
    "                @layer openprops, normalize, utils, theme, components.base, components.has-deps;\n",
    "            `;\n",
    "            document.head.prepend(baseStyle);\n",
    "            window.styleSystem.layers.base = true;\n",
    "        }\n",
    "    \"\"\")\n",
    "\n",
    "def register_component_styles(name, styles, layer='components.base'):\n",
    "    return Script(f\"\"\"\n",
    "        if (!window.styleSystem.registry.get('{name}')) {{\n",
    "            window.styleSystem.registry.set('{name}', true);\n",
    "            document.head.appendChild(Object.assign(\n",
    "                document.createElement('style'),\n",
    "                {{\n",
    "                    id: '{name}-styles',\n",
    "                    textContent: `@layer {layer} {{ {styles} }}`\n",
    "                }}\n",
    "            ));\n",
    "        }}\n",
    "    \"\"\")\n"
   ]
  },
  {
   "cell_type": "markdown",
   "id": "8ead6673-6275-4907-9adc-36fcedac2142",
   "metadata": {},
   "source": [
    "### Switch\n"
   ]
  },
  {
   "cell_type": "code",
   "execution_count": 61,
   "id": "47badd74-ae3e-4cfd-92a8-73c60e30e678",
   "metadata": {
    "jupyter": {
     "source_hidden": true
    }
   },
   "outputs": [],
   "source": [
    "def Switch(label, checked=False, disabled=False, size=None, stack=False, error=False, supporting_text=None, **kwargs):\n",
    "    # Register base styles\n",
    "    styles = \"\"\"\n",
    "        @layer components.base {\n",
    "  :where(.switch) {\n",
    "    --_accent-color: var(--primary);\n",
    "    --_accent-contrast: var(--primary-contrast);\n",
    "\n",
    "    --_dot-bg-color: light-dark(var(--gray-11), var(--gray-14));\n",
    "    --_dot-inset: var(--size-1) auto auto var(--size-1);\n",
    "    --_dot-outline-size: 0;\n",
    "    --_dot-size: var(--size-3);\n",
    "\n",
    "    --_track-bg-color: light-dark(var(--gray-3), var(--gray-8));\n",
    "    --_track-height: var(--size-5);\n",
    "    --_track-width: var(--size-8);\n",
    "    --_transition-tf: var(--ease-4);\n",
    "    --_transition-time: 0.2s;\n",
    "\n",
    "    align-items: center;\n",
    "    color: var(--text-color-1);\n",
    "    display: inline-grid;\n",
    "    gap: 0 var(--size-2);\n",
    "    grid-auto-columns: auto;\n",
    "    grid-auto-flow: column;\n",
    "    inline-size: fit-content;\n",
    "\n",
    "    input[type=\"checkbox\"][role=\"switch\"] {\n",
    "      appearance: none;\n",
    "      block-size: var(--_track-height);\n",
    "      cursor: pointer;\n",
    "      inline-size: var(--_track-width);\n",
    "      margin: 0;\n",
    "      position: relative;\n",
    "\n",
    "      /* Track */\n",
    "      &::before {\n",
    "        background-color: var(--_track-bg-color);\n",
    "        block-size: var(--_track-height);\n",
    "        border: 1px solid var(--_dot-bg-color);\n",
    "        border-radius: 100vmax;\n",
    "        content: \"\";\n",
    "        inline-size: var(--_track-width);\n",
    "        inset: 0;\n",
    "        position: absolute;\n",
    "      }\n",
    "\n",
    "      &:focus-visible {\n",
    "        outline-offset: 2px;\n",
    "        outline: 2px solid currentColor;\n",
    "      }\n",
    "\n",
    "      /* Dot */\n",
    "      &::after {\n",
    "        background-color: var(--_dot-bg-color);\n",
    "        block-size: var(--_dot-size);\n",
    "        border-radius: 100vmax;\n",
    "        border: 1px solid var(--_dot-border-color);\n",
    "        content: \"\";\n",
    "        inline-size: var(--_dot-size);\n",
    "        inset: var(--_dot-inset);\n",
    "        outline-offset: -1px;\n",
    "        outline: var(--_dot-outline-size) solid var(--_dot-bg-color);\n",
    "        position: absolute;\n",
    "      }\n",
    "\n",
    "      /* Checked */\n",
    "      &:checked {\n",
    "        &::before {\n",
    "          background-color: var(--_accent-color);\n",
    "          border-color: var(--_accent-color);\n",
    "          transition:\n",
    "            background-color var(--_transition-time) var(--_transition-tf),\n",
    "            border-color var(--_transition-time) var(--_transition-tf);\n",
    "        }\n",
    "\n",
    "        /* Dot */\n",
    "        &::after {\n",
    "          --_dot-bg-color: var(--_accent-contrast);\n",
    "          --_dot-outline-size: calc(var(--size-1) - 1px);\n",
    "\n",
    "          inset-inline-start: calc(\n",
    "            var(--_track-width) - var(--_dot-size) - var(--size-1)\n",
    "          );\n",
    "        }\n",
    "      }\n",
    "\n",
    "      /* Animation */\n",
    "      @media (prefers-reduced-motion: no-preference) {\n",
    "        /* Track */\n",
    "        &::before {\n",
    "          transition:\n",
    "            background-color var(--_transition-time) var(--_transition-tf),\n",
    "            border-color var(--_transition-time) var(--_transition-tf);\n",
    "        }\n",
    "\n",
    "        /* Dot */\n",
    "        &::after {\n",
    "          transition: all var(--_transition-time) var(--_transition-tf);\n",
    "        }\n",
    "\n",
    "        &:active:after {\n",
    "          --_dot-outline-size: calc(var(--size-1) + 1px);\n",
    "        }\n",
    "\n",
    "        &:checked {\n",
    "          &:active:after {\n",
    "            --_dot-outline-size: calc(var(--size-1) + 1px);\n",
    "          }\n",
    "        }\n",
    "      }\n",
    "    }\n",
    "\n",
    "    /* Required dot */\n",
    "    &:has([required]:not(:checked)) {\n",
    "      .label:after {\n",
    "        color: var(--red);\n",
    "        content: \"*\";\n",
    "        inset: 0 -0.25ex auto auto;\n",
    "        position: absolute;\n",
    "      }\n",
    "    }\n",
    "\n",
    "    /* Disabled */\n",
    "    &:has([disabled]) {\n",
    "      cursor: not-allowed;\n",
    "      opacity: 0.64;\n",
    "      user-select: none;\n",
    "\n",
    "      input {\n",
    "        cursor: not-allowed;\n",
    "      }\n",
    "    }\n",
    "\n",
    "    /* Label */\n",
    "    .label {\n",
    "      grid-column: 2;\n",
    "      grid-row: 1;\n",
    "      min-width: 0;\n",
    "      padding-inline: 0 1ex;\n",
    "      position: relative;\n",
    "      user-select: none;\n",
    "    }\n",
    "\n",
    "    /* Supporting text */\n",
    "    .supporting-text {\n",
    "      color: var(--text-color-2);\n",
    "      font-size: var(--font-size-xs);\n",
    "      grid-column: 2;\n",
    "      grid-row: 2;\n",
    "      line-height: 1.5;\n",
    "      z-index: 1;\n",
    "    }\n",
    "\n",
    "    /* Size */\n",
    "    &.small {\n",
    "      --_dot-size: 0.75rem;\n",
    "      --_track-height: var(--size-4);\n",
    "      --_track-width: 2.5rem;\n",
    "    }\n",
    "\n",
    "    /* Stacked layout */\n",
    "    &.stack {\n",
    "      justify-items: center;\n",
    "      grid-auto-columns: unset;\n",
    "\n",
    "      .label {\n",
    "        grid-column: 1/-1;\n",
    "        grid-row: 2;\n",
    "        margin-block-start: var(--size-1);\n",
    "        padding-inline: 1ex;\n",
    "      }\n",
    "\n",
    "      .supporting-text {\n",
    "        grid-column: 1/-1;\n",
    "        grid-row: 3;\n",
    "      }\n",
    "    }\n",
    "\n",
    "    /* Validation */\n",
    "    &.error {\n",
    "      input {\n",
    "        outline: 2px solid var(--color-9);\n",
    "        border-radius: var(--radius-round);\n",
    "      }\n",
    "\n",
    "      .label,\n",
    "      .supporting-text {\n",
    "        color: var(--color-9);\n",
    "      }\n",
    "    }\n",
    "  }\n",
    "}\n",
    "    \"\"\"\n",
    "    \n",
    "    # Build classes\n",
    "    classes = ['switch']\n",
    "    if size == 'small':\n",
    "        classes.append('small')\n",
    "    if stack:\n",
    "        classes.append('stack')\n",
    "    if error:\n",
    "        classes.append('error')\n",
    "    \n",
    "    return Div(\n",
    "        register_component_styles('switch', styles, layer='components.base'),\n",
    "        Label(\n",
    "            Input(\n",
    "                type=\"checkbox\",\n",
    "                role=\"switch\",\n",
    "                checked=checked,\n",
    "                disabled=disabled,\n",
    "                **kwargs\n",
    "            ),\n",
    "            Span(label, cls=\"label\") if label else None,\n",
    "            Span(supporting_text, cls=\"supporting-text\") if supporting_text else None,\n",
    "            cls=' '.join(classes)\n",
    "        )\n",
    "    )\n"
   ]
  },
  {
   "cell_type": "code",
   "execution_count": 70,
   "id": "c04ef2ce-1858-4918-95f4-ac08c255d7d8",
   "metadata": {
    "jupyter": {
     "source_hidden": true
    }
   },
   "outputs": [],
   "source": [
    "def FieldGroup(legend, *switches, direction='column', disabled=False, error=False, supporting_text=None):\n",
    "    styles = \"\"\"\n",
    "@layer components.has-deps {\n",
    "  /* Common styling for checkbox, radio and switch groups */\n",
    "  :where(fieldset.field-group) {\n",
    "    border: 0;\n",
    "    border-radius: 0;\n",
    "    gap: 0;\n",
    "    padding: 0;\n",
    "    z-index: 1;\n",
    "\n",
    "    legend {\n",
    "      color: var(--text-color-2);\n",
    "      padding: 0 1ex 0 0;\n",
    "    }\n",
    "\n",
    "    /* Disabled */\n",
    "    &[disabled] {\n",
    "      cursor: not-allowed;\n",
    "      opacity: 0.64;\n",
    "      user-select: none;\n",
    "\n",
    "      input {\n",
    "        cursor: not-allowed;\n",
    "      }\n",
    "    }\n",
    "\n",
    "    /* Validation */\n",
    "    &.error {\n",
    "      legend,\n",
    "      .supporting-text {\n",
    "        color: var(--color-9);\n",
    "      }\n",
    "    }\n",
    "\n",
    "    /* Required */\n",
    "    &:has([required]) {\n",
    "      &:not(:has(input:where([type=\"radio\"], [type=\"checkbox\"]):checked)) {\n",
    "        legend {\n",
    "          position: relative;\n",
    "\n",
    "          &::after {\n",
    "            color: var(--red);\n",
    "            content: \"*\";\n",
    "            inset: 0 -0.25ex auto auto;\n",
    "            position: absolute;\n",
    "          }\n",
    "        }\n",
    "      }\n",
    "    }\n",
    "    :where(.radio, .checkbox, .switch) .label:after {\n",
    "      display: none;\n",
    "    }\n",
    "\n",
    "    /* Supporting text */\n",
    "    .supporting-text {\n",
    "      color: var(--text-color-2);\n",
    "      font-size: var(--font-size-xs);\n",
    "      line-height: 1.5;\n",
    "      z-index: 1;\n",
    "    }\n",
    "\n",
    "    /* Fields */\n",
    "    .fields {\n",
    "      display: flex;\n",
    "      flex-direction: column;\n",
    "      gap: var(--size-2);\n",
    "\n",
    "      * ~ & {\n",
    "        padding: var(--size-2) 0;\n",
    "      }\n",
    "    }\n",
    "\n",
    "    :last-child {\n",
    "      padding-block-end: 0;\n",
    "    }\n",
    "\n",
    "    /* Directions */\n",
    "    &.row {\n",
    "      .fields {\n",
    "        flex-direction: row;\n",
    "      }\n",
    "    }\n",
    "  }\n",
    "}\n",
    "    \"\"\"\n",
    "    \n",
    "    classes = ['field-group']\n",
    "    if direction == 'row':\n",
    "        classes.append('row')\n",
    "    if error:\n",
    "        classes.append('error')\n",
    "    \n",
    "    return Div(\n",
    "        register_component_styles('field-group', styles, layer='components.has-deps'),\n",
    "        Fieldset(\n",
    "            Legend(legend) if legend else None,\n",
    "            Span(supporting_text, cls=\"supporting-text\") if supporting_text else None,\n",
    "            Div(*switches, cls=\"fields\"),\n",
    "            cls=' '.join(classes),\n",
    "            disabled=disabled\n",
    "        )\n",
    "    )\n"
   ]
  },
  {
   "cell_type": "code",
   "execution_count": 75,
   "id": "b28a4f79-c846-417f-9a63-256576b8d14b",
   "metadata": {},
   "outputs": [],
   "source": [
    "@rt('/test')\n",
    "def get():\n",
    "    return Html(\n",
    "        Head(\n",
    "            Title(\"Component Demo\"),\n",
    "            setup_styles_and_registry(),\n",
    "            setup_base_styles()\n",
    "        ),\n",
    "        Body(\n",
    "            Div(\n",
    "                H1(\"Settings Demo\"),\n",
    "                # Switch component will register its own styles\n",
    "                Switch(\n",
    "                    \"Dark Mode\", \n",
    "                    supporting_text=\"Toggle dark mode\"\n",
    "                ),\n",
    "                # FieldGroup component will register its styles\n",
    "                FieldGroup(\n",
    "                    \"Notification Preferences\",\n",
    "                    Switch(\"Email notifications\"),\n",
    "                    Switch(\"Push notifications\", checked=True),\n",
    "                    Switch(\"Weekly digest\"),\n",
    "                    direction='row',\n",
    "                    supporting_text=\"Choose how you want to be notified\"\n",
    "                )\n",
    "            )\n",
    "        )\n",
    "    )\n",
    "        "
   ]
  },
  {
   "cell_type": "code",
   "execution_count": null,
   "id": "20e54bae-ec81-4731-b5ec-71770eab0487",
   "metadata": {},
   "outputs": [],
   "source": []
  }
 ],
 "metadata": {
  "kernelspec": {
   "display_name": "Python 3 (ipykernel)",
   "language": "python",
   "name": "python3"
  },
  "language_info": {
   "codemirror_mode": {
    "name": "ipython",
    "version": 3
   },
   "file_extension": ".py",
   "mimetype": "text/x-python",
   "name": "python",
   "nbconvert_exporter": "python",
   "pygments_lexer": "ipython3",
   "version": "3.12.5"
  }
 },
 "nbformat": 4,
 "nbformat_minor": 5
}
