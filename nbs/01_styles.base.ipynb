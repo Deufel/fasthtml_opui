{
 "cells": [
  {
   "cell_type": "code",
   "execution_count": null,
   "id": "a81779be-fa9c-4b91-8120-7c78af3dcd9e",
   "metadata": {},
   "outputs": [],
   "source": [
    "# | default_exp styles.base"
   ]
  },
  {
   "cell_type": "code",
   "execution_count": null,
   "id": "086037f8-f065-4f95-a945-23ec131a5828",
   "metadata": {},
   "outputs": [],
   "source": [
    "# | hide\n",
    "from nbdev.showdoc import *\n",
    "from fasthtml.common import Style"
   ]
  },
  {
   "cell_type": "code",
   "execution_count": 2,
   "id": "64bf15a7-6ab5-4a63-b645-7d5a27a4083e",
   "metadata": {},
   "outputs": [],
   "source": [
    "# | export\n",
    "def setup_open_props():\n",
    "    \"\"\"Setup core OpenProps styles and theme variables\"\"\"\n",
    "    return Style(\"\"\"\n",
    "        @import \"https://unpkg.com/open-props\";\n",
    "        @import \"https://unpkg.com/open-props/normalize.min.css\";\n",
    "        \n",
    "        :where(html) {\n",
    "            --color-scheme: light dark;\n",
    "            --palette-hue: var(--oklch-teal);\n",
    "            --palette-hue-rotate-by: 5;\n",
    "            --palette-chroma: 0.89;\n",
    "            /* ... other theme variables ... */\n",
    "        }\n",
    "    \"\"\")"
   ]
  },
  {
   "cell_type": "code",
   "execution_count": null,
   "id": "2dfbc9aa-e8be-403a-9dd2-22807f349d10",
   "metadata": {},
   "outputs": [],
   "source": []
  }
 ],
 "metadata": {
  "kernelspec": {
   "display_name": "Python 3 (ipykernel)",
   "language": "python",
   "name": "python3"
  },
  "language_info": {
   "codemirror_mode": {
    "name": "ipython",
    "version": 3
   },
   "file_extension": ".py",
   "mimetype": "text/x-python",
   "name": "python",
   "nbconvert_exporter": "python",
   "pygments_lexer": "ipython3",
   "version": "3.12.5"
  }
 },
 "nbformat": 4,
 "nbformat_minor": 5
}
