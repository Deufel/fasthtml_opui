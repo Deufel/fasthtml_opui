{
 "cells": [
  {
   "cell_type": "code",
   "execution_count": null,
   "id": "dc8a9b97-1ca7-45d2-aeb6-b50a287699dd",
   "metadata": {},
   "outputs": [],
   "source": [
    "# | default_exp components.actions\n",
    "# | hide\n",
    "from nbdev.showdoc import *\n",
    "from fasthtml.common import ft_hx"
   ]
  },
  {
   "cell_type": "code",
   "execution_count": null,
   "id": "1ea267e3-241f-4e1d-958a-3d5e8348aa01",
   "metadata": {},
   "outputs": [],
   "source": [
    "# | export\n",
    "def Button(*c, variant=None, size=None, disabled=False, icon_only=False, **kwargs):\n",
    "    \"\"\"Button component matching OpenPropsUI specs\n",
    "    \n",
    "    Args:\n",
    "        *c: Child components\n",
    "        variant: One of \"outlined\", \"tonal\", \"filled\", \"elevated\"\n",
    "        size: One of \"small\", \"large\"\n",
    "        disabled: Whether button is disabled\n",
    "        icon_only: Whether button contains only an icon\n",
    "        **kwargs: Additional HTML attributes\n",
    "    \"\"\"\n",
    "    classes = ['button']\n",
    "    if variant:\n",
    "        classes.append(variant)\n",
    "    if size:\n",
    "        classes.append(size)\n",
    "    if icon_only:\n",
    "        classes.append('icon-only')\n",
    "    \n",
    "    return ft_hx('button',\n",
    "        *c,\n",
    "        class_=' '.join(classes),\n",
    "        disabled=disabled,\n",
    "        **kwargs\n",
    "    )"
   ]
  },
  {
   "cell_type": "code",
   "execution_count": null,
   "id": "d1c9dbd3-4277-43bf-b81e-e8a8bcdec78f",
   "metadata": {},
   "outputs": [],
   "source": [
    "# | export\n",
    "def ButtonGroup(*c, **kwargs):\n",
    "    \"\"\"Button group following OpenPropsUI specs\n",
    "    \n",
    "    Args:\n",
    "        *c: Child components (Button components)\n",
    "        **kwargs: Additional HTML attributes\n",
    "    \"\"\"\n",
    "    return ft_hx('div',\n",
    "        *c,\n",
    "        class_='button-group',\n",
    "        role='group',\n",
    "        **kwargs\n",
    "    )"
   ]
  },
  {
   "cell_type": "code",
   "execution_count": null,
   "id": "db14b075-a63b-400d-8e1e-ae02e9d78052",
   "metadata": {},
   "outputs": [],
   "source": []
  }
 ],
 "metadata": {
  "kernelspec": {
   "display_name": "python3",
   "language": "python",
   "name": "python3"
  }
 },
 "nbformat": 4,
 "nbformat_minor": 5
}
